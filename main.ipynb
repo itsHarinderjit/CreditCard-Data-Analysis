{
 "cells": [
  {
   "cell_type": "markdown",
   "metadata": {},
   "source": [
    "# Importing required libraries"
   ]
  },
  {
   "cell_type": "code",
   "execution_count": 121,
   "metadata": {
    "ExecuteTime": {
     "end_time": "2023-02-19T17:16:01.697005Z",
     "start_time": "2023-02-19T17:16:01.690410Z"
    }
   },
   "outputs": [],
   "source": [
    "import pandas as pd\n",
    "import numpy as np\n",
    "import random\n",
    "import math\n",
    "\n",
    "from imblearn.over_sampling import SMOTE\n",
    "import matplotlib.pyplot as plt\n",
    "\n",
    "from sklearn.preprocessing import MinMaxScaler\n",
    "from sklearn.model_selection import train_test_split\n",
    "\n",
    "from xgboost import XGBClassifier\n",
    "from sklearn.tree import DecisionTreeClassifier\n",
    "from sklearn.linear_model import LogisticRegression\n",
    "from sklearn.neighbors import KNeighborsClassifier\n",
    "from sklearn.svm import SVC\n",
    "\n",
    "from sklearn.metrics import confusion_matrix,classification_report,accuracy_score"
   ]
  },
  {
   "cell_type": "markdown",
   "metadata": {},
   "source": [
    "# Getting and exploring data"
   ]
  },
  {
   "cell_type": "code",
   "execution_count": 119,
   "metadata": {
    "ExecuteTime": {
     "end_time": "2023-02-19T17:15:55.006047Z",
     "start_time": "2023-02-19T17:15:54.985624Z"
    }
   },
   "outputs": [],
   "source": [
    "data = pd.read_csv('Creditcard_data.csv')"
   ]
  },
  {
   "cell_type": "code",
   "execution_count": 3,
   "metadata": {
    "ExecuteTime": {
     "end_time": "2023-02-19T16:14:17.072507Z",
     "start_time": "2023-02-19T16:14:17.063025Z"
    }
   },
   "outputs": [
    {
     "data": {
      "text/plain": [
       "(772, 31)"
      ]
     },
     "execution_count": 3,
     "metadata": {},
     "output_type": "execute_result"
    }
   ],
   "source": [
    "data.shape"
   ]
  },
  {
   "cell_type": "code",
   "execution_count": 89,
   "metadata": {
    "ExecuteTime": {
     "end_time": "2023-02-19T16:57:36.329563Z",
     "start_time": "2023-02-19T16:57:36.321881Z"
    }
   },
   "outputs": [
    {
     "name": "stdout",
     "output_type": "stream",
     "text": [
      "(763, 31)\n",
      "(9, 31)\n"
     ]
    }
   ],
   "source": [
    "print(data[data['Class']==0].shape)\n",
    "print(data[data['Class']==1].shape)"
   ]
  },
  {
   "cell_type": "code",
   "execution_count": 124,
   "metadata": {
    "ExecuteTime": {
     "end_time": "2023-02-19T17:17:22.324456Z",
     "start_time": "2023-02-19T17:17:22.128351Z"
    }
   },
   "outputs": [
    {
     "data": {
      "text/plain": [
       "<BarContainer object of 2 artists>"
      ]
     },
     "execution_count": 124,
     "metadata": {},
     "output_type": "execute_result"
    },
    {
     "data": {
      "image/png": "[encoded data removed]",
      "text/plain": [
       "<Figure size 640x480 with 1 Axes>"
      ]
     },
     "metadata": {},
     "output_type": "display_data"
    }
   ],
   "source": [
    "vals = data['Class'].unique()\n",
    "size = []\n",
    "for val in vals :\n",
    "    size.append(len(data[data['Class']==val]))\n",
    "plt.bar(['0','1'],size,color='maroon')"
   ]
  },
  {
   "cell_type": "markdown",
   "metadata": {},
   "source": [
    "# Over Sampling "
   ]
  },
  {
   "cell_type": "code",
   "execution_count": 101,
   "metadata": {
    "ExecuteTime": {
     "end_time": "2023-02-19T16:59:15.013076Z",
     "start_time": "2023-02-19T16:59:15.006261Z"
    }
   },
   "outputs": [],
   "source": [
    "x = data.drop('Class',axis = 1)\n",
    "y = data['Class']"
   ]
  },
  {
   "cell_type": "code",
   "execution_count": 102,
   "metadata": {
    "ExecuteTime": {
     "end_time": "2023-02-19T16:59:16.671306Z",
     "start_time": "2023-02-19T16:59:16.650525Z"
    }
   },
   "outputs": [],
   "source": [
    "## using smote over sampling\n",
    "ros = SMOTE()\n",
    "\n",
    "x,y = ros.fit_resample(x,y)"
   ]
  },
  {
   "cell_type": "code",
   "execution_count": 7,
   "metadata": {
    "ExecuteTime": {
     "end_time": "2023-02-19T16:14:24.377330Z",
     "start_time": "2023-02-19T16:14:24.368202Z"
    }
   },
   "outputs": [
    {
     "data": {
      "text/plain": [
       "0    763\n",
       "1    763\n",
       "Name: Class, dtype: int64"
      ]
     },
     "execution_count": 7,
     "metadata": {},
     "output_type": "execute_result"
    }
   ],
   "source": [
    "y.value_counts()"
   ]
  },
  {
   "cell_type": "code",
   "execution_count": 103,
   "metadata": {
    "ExecuteTime": {
     "end_time": "2023-02-19T16:59:18.511877Z",
     "start_time": "2023-02-19T16:59:18.505725Z"
    }
   },
   "outputs": [],
   "source": [
    "new_data = pd.concat([x,y],axis=1)"
   ]
  },
  {
   "cell_type": "code",
   "execution_count": 93,
   "metadata": {
    "ExecuteTime": {
     "end_time": "2023-02-19T16:57:43.523174Z",
     "start_time": "2023-02-19T16:57:43.502412Z"
    }
   },
   "outputs": [
    {
     "name": "stdout",
     "output_type": "stream",
     "text": [
      "      Time        V1        V2        V3        V4        V5        V6  \\\n",
      "0        0 -1.359807 -0.072781  2.536347  1.378155 -0.338321  0.462388   \n",
      "1        0  1.191857  0.266151  0.166480  0.448154  0.060018 -0.082361   \n",
      "2        1 -1.358354 -1.340163  1.773209  0.379780 -0.503198  1.800499   \n",
      "3        1 -0.966272 -0.185226  1.792993 -0.863291 -0.010309  1.247203   \n",
      "4        2 -1.158233  0.877737  1.548718  0.403034 -0.407193  0.095921   \n",
      "...    ...       ...       ...       ...       ...       ...       ...   \n",
      "1521   488 -2.748374 -2.970008  1.478638  1.963587  1.671735 -0.595293   \n",
      "1522   505 -1.884642  0.536320  0.474918  0.528475  0.553260 -0.580716   \n",
      "1523   245  0.495642  0.366950  0.802864  0.515577  0.093851 -1.011388   \n",
      "1524   462 -2.068984  1.146653 -0.423879  2.024235  0.089607 -0.945375   \n",
      "1525   309 -1.359766  1.392682 -0.786735  2.447706  0.014835 -0.756622   \n",
      "\n",
      "            V7        V8        V9  ...       V21       V22       V23  \\\n",
      "0     0.239599  0.098698  0.363787  ... -0.018307  0.277838 -0.110474   \n",
      "1    -0.078803  0.085102 -0.255425  ... -0.225775 -0.638672  0.101288   \n",
      "2     0.791461  0.247676 -1.514654  ...  0.247998  0.771679  0.909412   \n",
      "3     0.237609  0.377436 -1.387024  ... -0.108300  0.005274 -0.190321   \n",
      "4     0.592941 -0.270533  0.817739  ... -0.009431  0.798278 -0.137458   \n",
      "...        ...       ...       ...  ...       ...       ...       ...   \n",
      "1521 -0.363757  0.174499  0.077076  ...  0.593989  0.650538  1.070850   \n",
      "1522 -0.445490  0.459163 -0.687821  ... -0.002134 -0.152064 -0.313651   \n",
      "1523  0.362329 -0.186751 -0.026503  ... -0.164486 -0.445200 -0.006189   \n",
      "1524 -1.347360  0.861185 -1.585540  ...  0.221778 -0.101616 -0.378992   \n",
      "1525 -1.406077  0.891753 -1.713303  ...  0.259331 -0.173537 -0.219194   \n",
      "\n",
      "           V24       V25       V26       V27       V28      Amount  Class  \n",
      "0     0.066928  0.128539 -0.189115  0.133558 -0.021053  149.620000      0  \n",
      "1    -0.339846  0.167170  0.125895 -0.008983  0.014724    2.690000      1  \n",
      "2    -0.689281 -0.327642 -0.139097 -0.055353 -0.059752  378.660000      0  \n",
      "3    -1.175575  0.647376 -0.221929  0.062723  0.061458  123.500000      0  \n",
      "4     0.141267 -0.206010  0.502292  0.219422  0.215153   69.990000      0  \n",
      "...        ...       ...       ...       ...       ...         ...    ...  \n",
      "1521 -0.453220  0.138545  0.139449 -0.216506 -0.022768  379.714785      1  \n",
      "1522 -0.095483 -0.238398  0.224413 -0.190762 -0.322382    0.745384      1  \n",
      "1523  0.355411  0.276871 -0.096091 -0.051560 -0.023595    2.102200      1  \n",
      "1524  0.083728 -0.116425  0.204334  0.004067 -0.245165    0.424030      1  \n",
      "1525 -0.352177 -0.527821  0.136947  0.249409  0.005817    0.395241      1  \n",
      "\n",
      "[1526 rows x 31 columns]\n"
     ]
    }
   ],
   "source": [
    "print(new_data)"
   ]
  },
  {
   "cell_type": "markdown",
   "metadata": {},
   "source": [
    "# Normalizing data"
   ]
  },
  {
   "cell_type": "code",
   "execution_count": 106,
   "metadata": {
    "ExecuteTime": {
     "end_time": "2023-02-19T17:00:09.102602Z",
     "start_time": "2023-02-19T17:00:09.088678Z"
    }
   },
   "outputs": [],
   "source": [
    "cols = new_data.drop('Class',axis = 1).columns\n",
    "scaler = MinMaxScaler()\n",
    "new_data = scaler.fit_transform(new_data.drop('Class',axis = 1))"
   ]
  },
  {
   "cell_type": "code",
   "execution_count": 107,
   "metadata": {
    "ExecuteTime": {
     "end_time": "2023-02-19T17:00:10.450778Z",
     "start_time": "2023-02-19T17:00:10.441634Z"
    }
   },
   "outputs": [],
   "source": [
    "new_data = pd.DataFrame(new_data)\n",
    "new_data.columns = cols\n",
    "new_data = pd.concat([new_data,y],axis = 1)\n",
    "new_data = new_data.drop(['Amount','Time'],axis=1)"
   ]
  },
  {
   "cell_type": "code",
   "execution_count": 108,
   "metadata": {
    "ExecuteTime": {
     "end_time": "2023-02-19T17:00:12.504436Z",
     "start_time": "2023-02-19T17:00:12.470335Z"
    }
   },
   "outputs": [
    {
     "data": {
      "text/html": [
       "<div>\n",
       "<style scoped>\n",
       "    .dataframe tbody tr th:only-of-type {\n",
       "        vertical-align: middle;\n",
       "    }\n",
       "\n",
       "    .dataframe tbody tr th {\n",
       "        vertical-align: top;\n",
       "    }\n",
       "\n",
       "    .dataframe thead th {\n",
       "        text-align: right;\n",
       "    }\n",
       "</style>\n",
       "<table border=\"1\" class=\"dataframe\">\n",
       "  <thead>\n",
       "    <tr style=\"text-align: right;\">\n",
       "      <th></th>\n",
       "      <th>V1</th>\n",
       "      <th>V2</th>\n",
       "      <th>V3</th>\n",
       "      <th>V4</th>\n",
       "      <th>V5</th>\n",
       "      <th>V6</th>\n",
       "      <th>V7</th>\n",
       "      <th>V8</th>\n",
       "      <th>V9</th>\n",
       "      <th>V10</th>\n",
       "      <th>...</th>\n",
       "      <th>V20</th>\n",
       "      <th>V21</th>\n",
       "      <th>V22</th>\n",
       "      <th>V23</th>\n",
       "      <th>V24</th>\n",
       "      <th>V25</th>\n",
       "      <th>V26</th>\n",
       "      <th>V27</th>\n",
       "      <th>V28</th>\n",
       "      <th>Class</th>\n",
       "    </tr>\n",
       "  </thead>\n",
       "  <tbody>\n",
       "    <tr>\n",
       "      <th>0</th>\n",
       "      <td>0.616386</td>\n",
       "      <td>0.692769</td>\n",
       "      <td>0.869399</td>\n",
       "      <td>0.691108</td>\n",
       "      <td>0.439976</td>\n",
       "      <td>0.459464</td>\n",
       "      <td>0.530632</td>\n",
       "      <td>0.788571</td>\n",
       "      <td>0.380816</td>\n",
       "      <td>0.246943</td>\n",
       "      <td>...</td>\n",
       "      <td>0.271352</td>\n",
       "      <td>0.437531</td>\n",
       "      <td>0.701974</td>\n",
       "      <td>0.513576</td>\n",
       "      <td>0.627460</td>\n",
       "      <td>0.600847</td>\n",
       "      <td>0.243528</td>\n",
       "      <td>0.515872</td>\n",
       "      <td>0.629684</td>\n",
       "      <td>0</td>\n",
       "    </tr>\n",
       "    <tr>\n",
       "      <th>1</th>\n",
       "      <td>0.948663</td>\n",
       "      <td>0.712269</td>\n",
       "      <td>0.619092</td>\n",
       "      <td>0.584620</td>\n",
       "      <td>0.467823</td>\n",
       "      <td>0.396272</td>\n",
       "      <td>0.497922</td>\n",
       "      <td>0.787159</td>\n",
       "      <td>0.305572</td>\n",
       "      <td>0.224710</td>\n",
       "      <td>...</td>\n",
       "      <td>0.240185</td>\n",
       "      <td>0.415478</td>\n",
       "      <td>0.491363</td>\n",
       "      <td>0.545164</td>\n",
       "      <td>0.495497</td>\n",
       "      <td>0.616141</td>\n",
       "      <td>0.316255</td>\n",
       "      <td>0.486594</td>\n",
       "      <td>0.637983</td>\n",
       "      <td>1</td>\n",
       "    </tr>\n",
       "    <tr>\n",
       "      <th>2</th>\n",
       "      <td>0.616576</td>\n",
       "      <td>0.619854</td>\n",
       "      <td>0.788796</td>\n",
       "      <td>0.576791</td>\n",
       "      <td>0.428449</td>\n",
       "      <td>0.614688</td>\n",
       "      <td>0.587326</td>\n",
       "      <td>0.804043</td>\n",
       "      <td>0.152556</td>\n",
       "      <td>0.257022</td>\n",
       "      <td>...</td>\n",
       "      <td>0.297955</td>\n",
       "      <td>0.465837</td>\n",
       "      <td>0.815457</td>\n",
       "      <td>0.665712</td>\n",
       "      <td>0.382135</td>\n",
       "      <td>0.420238</td>\n",
       "      <td>0.255076</td>\n",
       "      <td>0.477069</td>\n",
       "      <td>0.620707</td>\n",
       "      <td>0</td>\n",
       "    </tr>\n",
       "    <tr>\n",
       "      <th>3</th>\n",
       "      <td>0.667632</td>\n",
       "      <td>0.686300</td>\n",
       "      <td>0.790885</td>\n",
       "      <td>0.434455</td>\n",
       "      <td>0.462906</td>\n",
       "      <td>0.550504</td>\n",
       "      <td>0.530427</td>\n",
       "      <td>0.817518</td>\n",
       "      <td>0.168065</td>\n",
       "      <td>0.234372</td>\n",
       "      <td>...</td>\n",
       "      <td>0.226672</td>\n",
       "      <td>0.427965</td>\n",
       "      <td>0.639340</td>\n",
       "      <td>0.501665</td>\n",
       "      <td>0.224375</td>\n",
       "      <td>0.806262</td>\n",
       "      <td>0.235952</td>\n",
       "      <td>0.501322</td>\n",
       "      <td>0.648824</td>\n",
       "      <td>0</td>\n",
       "    </tr>\n",
       "    <tr>\n",
       "      <th>4</th>\n",
       "      <td>0.642635</td>\n",
       "      <td>0.747455</td>\n",
       "      <td>0.765085</td>\n",
       "      <td>0.579454</td>\n",
       "      <td>0.435161</td>\n",
       "      <td>0.416954</td>\n",
       "      <td>0.566932</td>\n",
       "      <td>0.750227</td>\n",
       "      <td>0.435979</td>\n",
       "      <td>0.304066</td>\n",
       "      <td>...</td>\n",
       "      <td>0.286632</td>\n",
       "      <td>0.438474</td>\n",
       "      <td>0.821569</td>\n",
       "      <td>0.509551</td>\n",
       "      <td>0.651576</td>\n",
       "      <td>0.468394</td>\n",
       "      <td>0.403156</td>\n",
       "      <td>0.533509</td>\n",
       "      <td>0.684476</td>\n",
       "      <td>0</td>\n",
       "    </tr>\n",
       "    <tr>\n",
       "      <th>...</th>\n",
       "      <td>...</td>\n",
       "      <td>...</td>\n",
       "      <td>...</td>\n",
       "      <td>...</td>\n",
       "      <td>...</td>\n",
       "      <td>...</td>\n",
       "      <td>...</td>\n",
       "      <td>...</td>\n",
       "      <td>...</td>\n",
       "      <td>...</td>\n",
       "      <td>...</td>\n",
       "      <td>...</td>\n",
       "      <td>...</td>\n",
       "      <td>...</td>\n",
       "      <td>...</td>\n",
       "      <td>...</td>\n",
       "      <td>...</td>\n",
       "      <td>...</td>\n",
       "      <td>...</td>\n",
       "      <td>...</td>\n",
       "      <td>...</td>\n",
       "    </tr>\n",
       "    <tr>\n",
       "      <th>1521</th>\n",
       "      <td>0.820615</td>\n",
       "      <td>0.727339</td>\n",
       "      <td>0.647433</td>\n",
       "      <td>0.554035</td>\n",
       "      <td>0.511614</td>\n",
       "      <td>0.417474</td>\n",
       "      <td>0.533998</td>\n",
       "      <td>0.788745</td>\n",
       "      <td>0.323855</td>\n",
       "      <td>0.225431</td>\n",
       "      <td>...</td>\n",
       "      <td>0.242233</td>\n",
       "      <td>0.423861</td>\n",
       "      <td>0.538522</td>\n",
       "      <td>0.552191</td>\n",
       "      <td>0.226420</td>\n",
       "      <td>0.072632</td>\n",
       "      <td>0.305109</td>\n",
       "      <td>0.530052</td>\n",
       "      <td>0.682676</td>\n",
       "      <td>1</td>\n",
       "    </tr>\n",
       "    <tr>\n",
       "      <th>1522</th>\n",
       "      <td>0.691434</td>\n",
       "      <td>0.721135</td>\n",
       "      <td>0.765748</td>\n",
       "      <td>0.553102</td>\n",
       "      <td>0.529738</td>\n",
       "      <td>0.320609</td>\n",
       "      <td>0.587679</td>\n",
       "      <td>0.766499</td>\n",
       "      <td>0.319675</td>\n",
       "      <td>0.194918</td>\n",
       "      <td>...</td>\n",
       "      <td>0.236444</td>\n",
       "      <td>0.443535</td>\n",
       "      <td>0.680781</td>\n",
       "      <td>0.500382</td>\n",
       "      <td>0.648838</td>\n",
       "      <td>0.603052</td>\n",
       "      <td>0.200048</td>\n",
       "      <td>0.476954</td>\n",
       "      <td>0.617314</td>\n",
       "      <td>1</td>\n",
       "    </tr>\n",
       "    <tr>\n",
       "      <th>1523</th>\n",
       "      <td>0.417678</td>\n",
       "      <td>0.578731</td>\n",
       "      <td>0.654983</td>\n",
       "      <td>0.837589</td>\n",
       "      <td>0.530302</td>\n",
       "      <td>0.273252</td>\n",
       "      <td>0.476007</td>\n",
       "      <td>0.803982</td>\n",
       "      <td>0.238164</td>\n",
       "      <td>0.130799</td>\n",
       "      <td>...</td>\n",
       "      <td>0.409900</td>\n",
       "      <td>0.506497</td>\n",
       "      <td>0.714870</td>\n",
       "      <td>0.676051</td>\n",
       "      <td>0.553410</td>\n",
       "      <td>0.640635</td>\n",
       "      <td>0.269729</td>\n",
       "      <td>0.459293</td>\n",
       "      <td>0.633903</td>\n",
       "      <td>1</td>\n",
       "    </tr>\n",
       "    <tr>\n",
       "      <th>1524</th>\n",
       "      <td>0.457944</td>\n",
       "      <td>0.581400</td>\n",
       "      <td>0.720199</td>\n",
       "      <td>0.674674</td>\n",
       "      <td>0.547701</td>\n",
       "      <td>0.314396</td>\n",
       "      <td>0.537387</td>\n",
       "      <td>0.779027</td>\n",
       "      <td>0.316488</td>\n",
       "      <td>0.190617</td>\n",
       "      <td>...</td>\n",
       "      <td>0.378288</td>\n",
       "      <td>0.477810</td>\n",
       "      <td>0.686595</td>\n",
       "      <td>0.647875</td>\n",
       "      <td>0.516973</td>\n",
       "      <td>0.573620</td>\n",
       "      <td>0.285495</td>\n",
       "      <td>0.429729</td>\n",
       "      <td>0.608055</td>\n",
       "      <td>1</td>\n",
       "    </tr>\n",
       "    <tr>\n",
       "      <th>1525</th>\n",
       "      <td>0.421683</td>\n",
       "      <td>0.591092</td>\n",
       "      <td>0.642997</td>\n",
       "      <td>0.845820</td>\n",
       "      <td>0.524770</td>\n",
       "      <td>0.271487</td>\n",
       "      <td>0.463638</td>\n",
       "      <td>0.810356</td>\n",
       "      <td>0.225393</td>\n",
       "      <td>0.123785</td>\n",
       "      <td>...</td>\n",
       "      <td>0.401822</td>\n",
       "      <td>0.505851</td>\n",
       "      <td>0.710323</td>\n",
       "      <td>0.664501</td>\n",
       "      <td>0.561786</td>\n",
       "      <td>0.636717</td>\n",
       "      <td>0.272867</td>\n",
       "      <td>0.463732</td>\n",
       "      <td>0.632157</td>\n",
       "      <td>1</td>\n",
       "    </tr>\n",
       "  </tbody>\n",
       "</table>\n",
       "<p>1526 rows × 29 columns</p>\n",
       "</div>"
      ],
      "text/plain": [
       "            V1        V2        V3        V4        V5        V6        V7  \\\n",
       "0     0.616386  0.692769  0.869399  0.691108  0.439976  0.459464  0.530632   \n",
       "1     0.948663  0.712269  0.619092  0.584620  0.467823  0.396272  0.497922   \n",
       "2     0.616576  0.619854  0.788796  0.576791  0.428449  0.614688  0.587326   \n",
       "3     0.667632  0.686300  0.790885  0.434455  0.462906  0.550504  0.530427   \n",
       "4     0.642635  0.747455  0.765085  0.579454  0.435161  0.416954  0.566932   \n",
       "...        ...       ...       ...       ...       ...       ...       ...   \n",
       "1521  0.820615  0.727339  0.647433  0.554035  0.511614  0.417474  0.533998   \n",
       "1522  0.691434  0.721135  0.765748  0.553102  0.529738  0.320609  0.587679   \n",
       "1523  0.417678  0.578731  0.654983  0.837589  0.530302  0.273252  0.476007   \n",
       "1524  0.457944  0.581400  0.720199  0.674674  0.547701  0.314396  0.537387   \n",
       "1525  0.421683  0.591092  0.642997  0.845820  0.524770  0.271487  0.463638   \n",
       "\n",
       "            V8        V9       V10  ...       V20       V21       V22  \\\n",
       "0     0.788571  0.380816  0.246943  ...  0.271352  0.437531  0.701974   \n",
       "1     0.787159  0.305572  0.224710  ...  0.240185  0.415478  0.491363   \n",
       "2     0.804043  0.152556  0.257022  ...  0.297955  0.465837  0.815457   \n",
       "3     0.817518  0.168065  0.234372  ...  0.226672  0.427965  0.639340   \n",
       "4     0.750227  0.435979  0.304066  ...  0.286632  0.438474  0.821569   \n",
       "...        ...       ...       ...  ...       ...       ...       ...   \n",
       "1521  0.788745  0.323855  0.225431  ...  0.242233  0.423861  0.538522   \n",
       "1522  0.766499  0.319675  0.194918  ...  0.236444  0.443535  0.680781   \n",
       "1523  0.803982  0.238164  0.130799  ...  0.409900  0.506497  0.714870   \n",
       "1524  0.779027  0.316488  0.190617  ...  0.378288  0.477810  0.686595   \n",
       "1525  0.810356  0.225393  0.123785  ...  0.401822  0.505851  0.710323   \n",
       "\n",
       "           V23       V24       V25       V26       V27       V28  Class  \n",
       "0     0.513576  0.627460  0.600847  0.243528  0.515872  0.629684      0  \n",
       "1     0.545164  0.495497  0.616141  0.316255  0.486594  0.637983      1  \n",
       "2     0.665712  0.382135  0.420238  0.255076  0.477069  0.620707      0  \n",
       "3     0.501665  0.224375  0.806262  0.235952  0.501322  0.648824      0  \n",
       "4     0.509551  0.651576  0.468394  0.403156  0.533509  0.684476      0  \n",
       "...        ...       ...       ...       ...       ...       ...    ...  \n",
       "1521  0.552191  0.226420  0.072632  0.305109  0.530052  0.682676      1  \n",
       "1522  0.500382  0.648838  0.603052  0.200048  0.476954  0.617314      1  \n",
       "1523  0.676051  0.553410  0.640635  0.269729  0.459293  0.633903      1  \n",
       "1524  0.647875  0.516973  0.573620  0.285495  0.429729  0.608055      1  \n",
       "1525  0.664501  0.561786  0.636717  0.272867  0.463732  0.632157      1  \n",
       "\n",
       "[1526 rows x 29 columns]"
      ]
     },
     "execution_count": 108,
     "metadata": {},
     "output_type": "execute_result"
    }
   ],
   "source": [
    "new_data"
   ]
  },
  {
   "cell_type": "markdown",
   "metadata": {},
   "source": [
    "# Model Training\n",
    "### Applying different classifying models on different sampling techniques"
   ]
  },
  {
   "cell_type": "code",
   "execution_count": 109,
   "metadata": {
    "ExecuteTime": {
     "end_time": "2023-02-19T17:00:16.815937Z",
     "start_time": "2023-02-19T17:00:16.810586Z"
    }
   },
   "outputs": [],
   "source": [
    "def model_accuracy(model,x,y) :\n",
    "    xTrain,xTest,yTrain,yTest = train_test_split(x,y,random_state=10)\n",
    "    model.fit(xTrain,yTrain)\n",
    "    yPred = model.predict(xTest)\n",
    "    return accuracy_score(yPred,yTest)"
   ]
  },
  {
   "cell_type": "code",
   "execution_count": 110,
   "metadata": {
    "ExecuteTime": {
     "end_time": "2023-02-19T17:00:18.196619Z",
     "start_time": "2023-02-19T17:00:18.189644Z"
    }
   },
   "outputs": [],
   "source": [
    "m = ['XGBClassifier','DecisionTreeClassifier','LogisticRegression','KNeighborsClassifier','SVC']\n",
    "models = [XGBClassifier(),DecisionTreeClassifier(),LogisticRegression(),KNeighborsClassifier(),SVC()]\n",
    "acc_lst = pd.DataFrame()"
   ]
  },
  {
   "cell_type": "code",
   "execution_count": 111,
   "metadata": {
    "ExecuteTime": {
     "end_time": "2023-02-19T17:00:19.685993Z",
     "start_time": "2023-02-19T17:00:19.376978Z"
    }
   },
   "outputs": [],
   "source": [
    "## Random Sampling\n",
    "\n",
    "sample1 = new_data.sample(n=750,ignore_index=True,random_state=10)\n",
    "x = sample1.drop('Class',axis = 1)\n",
    "y = sample1['Class']\n",
    "lst = []\n",
    "for model in models :\n",
    "    lst.append(model_accuracy(model,x,y))\n",
    "acc_lst['Random Sampling'] = lst"
   ]
  },
  {
   "cell_type": "code",
   "execution_count": 112,
   "metadata": {
    "ExecuteTime": {
     "end_time": "2023-02-19T17:00:20.787217Z",
     "start_time": "2023-02-19T17:00:20.467767Z"
    }
   },
   "outputs": [],
   "source": [
    "## Systematic sampling\n",
    "\n",
    "sample2 = new_data.iloc[::2]\n",
    "x = sample2.drop('Class',axis = 1)\n",
    "y = sample2['Class']\n",
    "lst = []\n",
    "for model in models :\n",
    "    lst.append(model_accuracy(model,x,y))\n",
    "acc_lst['Systematic Sampling'] = lst"
   ]
  },
  {
   "cell_type": "code",
   "execution_count": 113,
   "metadata": {
    "ExecuteTime": {
     "end_time": "2023-02-19T17:00:22.739626Z",
     "start_time": "2023-02-19T17:00:22.444570Z"
    }
   },
   "outputs": [],
   "source": [
    "## Stratified sampling\n",
    "\n",
    "class_0 = new_data[new_data['Class']==0]\n",
    "class_1 = new_data[new_data['Class']==1]\n",
    "\n",
    "class_0 = class_0.sample(n=375,ignore_index = True,random_state = 10)\n",
    "class_1 = class_1.sample(n=375,ignore_index = True,random_state = 10)\n",
    "\n",
    "sample3 = pd.concat([class_0,class_1],axis = 0)\n",
    "x = sample3.drop('Class',axis = 1)\n",
    "y = sample3['Class']\n",
    "lst = []\n",
    "for model in models :\n",
    "    lst.append(model_accuracy(model,x,y))\n",
    "acc_lst['Stratified Sampling'] = lst"
   ]
  },
  {
   "cell_type": "code",
   "execution_count": 114,
   "metadata": {
    "ExecuteTime": {
     "end_time": "2023-02-19T17:00:23.979401Z",
     "start_time": "2023-02-19T17:00:23.646548Z"
    }
   },
   "outputs": [],
   "source": [
    "## Cluster sampling\n",
    "\n",
    "cluster_lst = []\n",
    "sample4 = pd.DataFrame()\n",
    "for i in range(10) :\n",
    "    cluster = new_data.sample(n=150,ignore_index=True,random_state=i)\n",
    "    cluster_lst.append(cluster)\n",
    "for i in range(5) :\n",
    "    sample4 = pd.concat([sample4,cluster_lst[math.floor(random.random()*10)]])\n",
    "\n",
    "x = sample4.drop('Class',axis = 1)\n",
    "y = sample4['Class']\n",
    "lst = []\n",
    "for model in models :\n",
    "    lst.append(model_accuracy(model,x,y))\n",
    "acc_lst['Cluster Sampling'] = lst"
   ]
  },
  {
   "cell_type": "code",
   "execution_count": 115,
   "metadata": {
    "ExecuteTime": {
     "end_time": "2023-02-19T17:00:25.972991Z",
     "start_time": "2023-02-19T17:00:24.842729Z"
    }
   },
   "outputs": [],
   "source": [
    "## multistage sampling\n",
    "classes = new_data['Class'].unique()\n",
    "class_0 = new_data[new_data['Class']==0].reset_index()\n",
    "class_1 = new_data[new_data['Class']==1].reset_index()\n",
    "random_lst = []\n",
    "lst = []\n",
    "for _ in range(750) :\n",
    "    random_lst.append(classes[math.floor(random.random()*2)])\n",
    "sample5 = pd.DataFrame()\n",
    "for data in random_lst :\n",
    "    if data == 0 :\n",
    "        sample5 = pd.concat([sample5,class_0.sample(1)],axis=0)\n",
    "    else :\n",
    "        sample5 = pd.concat([sample5,class_1.sample(1)],axis=0)\n",
    "sample5 = sample5.reset_index()\n",
    "for model in models :\n",
    "    lst.append(model_accuracy(model,x,y))\n",
    "acc_lst['Multistage Sampling'] = lst"
   ]
  },
  {
   "cell_type": "code",
   "execution_count": 116,
   "metadata": {
    "ExecuteTime": {
     "end_time": "2023-02-19T17:00:27.572291Z",
     "start_time": "2023-02-19T17:00:27.555727Z"
    }
   },
   "outputs": [
    {
     "data": {
      "text/html": [
       "<div>\n",
       "<style scoped>\n",
       "    .dataframe tbody tr th:only-of-type {\n",
       "        vertical-align: middle;\n",
       "    }\n",
       "\n",
       "    .dataframe tbody tr th {\n",
       "        vertical-align: top;\n",
       "    }\n",
       "\n",
       "    .dataframe thead th {\n",
       "        text-align: right;\n",
       "    }\n",
       "</style>\n",
       "<table border=\"1\" class=\"dataframe\">\n",
       "  <thead>\n",
       "    <tr style=\"text-align: right;\">\n",
       "      <th></th>\n",
       "      <th>Random Sampling</th>\n",
       "      <th>Systematic Sampling</th>\n",
       "      <th>Stratified Sampling</th>\n",
       "      <th>Cluster Sampling</th>\n",
       "      <th>Multistage Sampling</th>\n",
       "    </tr>\n",
       "  </thead>\n",
       "  <tbody>\n",
       "    <tr>\n",
       "      <th>XGBClassifier</th>\n",
       "      <td>0.984043</td>\n",
       "      <td>0.989529</td>\n",
       "      <td>0.984043</td>\n",
       "      <td>0.984043</td>\n",
       "      <td>0.984043</td>\n",
       "    </tr>\n",
       "    <tr>\n",
       "      <th>DecisionTreeClassifier</th>\n",
       "      <td>0.968085</td>\n",
       "      <td>0.931937</td>\n",
       "      <td>0.984043</td>\n",
       "      <td>0.962766</td>\n",
       "      <td>0.973404</td>\n",
       "    </tr>\n",
       "    <tr>\n",
       "      <th>LogisticRegression</th>\n",
       "      <td>0.819149</td>\n",
       "      <td>0.743455</td>\n",
       "      <td>0.824468</td>\n",
       "      <td>0.851064</td>\n",
       "      <td>0.851064</td>\n",
       "    </tr>\n",
       "    <tr>\n",
       "      <th>KNeighborsClassifier</th>\n",
       "      <td>0.898936</td>\n",
       "      <td>0.921466</td>\n",
       "      <td>0.957447</td>\n",
       "      <td>0.925532</td>\n",
       "      <td>0.925532</td>\n",
       "    </tr>\n",
       "    <tr>\n",
       "      <th>SVC</th>\n",
       "      <td>0.936170</td>\n",
       "      <td>0.952880</td>\n",
       "      <td>0.973404</td>\n",
       "      <td>0.952128</td>\n",
       "      <td>0.952128</td>\n",
       "    </tr>\n",
       "  </tbody>\n",
       "</table>\n",
       "</div>"
      ],
      "text/plain": [
       "                        Random Sampling  Systematic Sampling  \\\n",
       "XGBClassifier                  0.984043             0.989529   \n",
       "DecisionTreeClassifier         0.968085             0.931937   \n",
       "LogisticRegression             0.819149             0.743455   \n",
       "KNeighborsClassifier           0.898936             0.921466   \n",
       "SVC                            0.936170             0.952880   \n",
       "\n",
       "                        Stratified Sampling  Cluster Sampling  \\\n",
       "XGBClassifier                      0.984043          0.984043   \n",
       "DecisionTreeClassifier             0.984043          0.962766   \n",
       "LogisticRegression                 0.824468          0.851064   \n",
       "KNeighborsClassifier               0.957447          0.925532   \n",
       "SVC                                0.973404          0.952128   \n",
       "\n",
       "                        Multistage Sampling  \n",
       "XGBClassifier                      0.984043  \n",
       "DecisionTreeClassifier             0.973404  \n",
       "LogisticRegression                 0.851064  \n",
       "KNeighborsClassifier               0.925532  \n",
       "SVC                                0.952128  "
      ]
     },
     "execution_count": 116,
     "metadata": {},
     "output_type": "execute_result"
    }
   ],
   "source": [
    "acc_lst_t = acc_lst.transpose()\n",
    "acc_lst_t.columns = m\n",
    "acc_lst_t.transpose()"
   ]
  }
 ],
 "metadata": {
  "kernelspec": {
   "display_name": "Python 3 (ipykernel)",
   "language": "python",
   "name": "python3"
  },
  "language_info": {
   "codemirror_mode": {
    "name": "ipython",
    "version": 3
   },
   "file_extension": ".py",
   "mimetype": "text/x-python",
   "name": "python",
   "nbconvert_exporter": "python",
   "pygments_lexer": "ipython3",
   "version": "3.11.1"
  },
  "toc": {
   "base_numbering": 1,
   "nav_menu": {},
   "number_sections": true,
   "sideBar": true,
   "skip_h1_title": false,
   "title_cell": "Table of Contents",
   "title_sidebar": "Contents",
   "toc_cell": false,
   "toc_position": {},
   "toc_section_display": true,
   "toc_window_display": false
  },
  "vscode": {
   "interpreter": {
    "hash": "bdb715d3f28895bf8d1f1f0337a53a101c9666f588645ae97659721ee0d271c0"
   }
  }
 },
 "nbformat": 4,
 "nbformat_minor": 2
}
